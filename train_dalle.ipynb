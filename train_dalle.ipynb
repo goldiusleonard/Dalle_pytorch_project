{
 "cells": [
  {
   "cell_type": "markdown",
   "metadata": {},
   "source": [
    "<font size=\"5\">Import Libraries</font>"
   ]
  },
  {
   "cell_type": "code",
   "execution_count": null,
   "metadata": {},
   "outputs": [],
   "source": [
    "import torch\n",
    "import torch.nn as nn\n",
    "from torchvision import transforms as T\n",
    "from torch.optim import Adam\n",
    "from torch.optim.lr_scheduler import ReduceLROnPlateau\n",
    "import os\n",
    "from tqdm import tqdm\n",
    "from typing import Optional, Callable, Tuple, List, Any\n",
    "from dalle_pytorch import DALLE, OpenAIDiscreteVAE, DiscreteVAE\n",
    "from dalle_pytorch.tokenizer import SimpleTokenizer\n",
    "from torchvision.datasets.coco import CocoCaptions\n",
    "from torch.utils.data import DataLoader\n",
    "import torch.nn.functional as F\n",
    "from einops import rearrange"
   ]
  },
  {
   "cell_type": "markdown",
   "metadata": {},
   "source": [
    "<font size=\"5\">Setting Dataset & Training Parameters</font>"
   ]
  },
  {
   "cell_type": "code",
   "execution_count": null,
   "metadata": {},
   "outputs": [],
   "source": [
    "# Change your input size here\n",
    "input_image_size = 256\n",
    "\n",
    "# Change your training batch size here\n",
    "batch_size = 4\n",
    "\n",
    "# Change your epoch here\n",
    "epoch = 5\n",
    "\n",
    "# Change your train image root path here\n",
    "train_img_path = \"./train2014/\"\n",
    "\n",
    "# Change your train annot json path here\n",
    "train_annot_path = \"./annotations/captions_train2014.json\"\n",
    "\n",
    "# Change your device (\"cpu\" or \"cuda\")\n",
    "device = \"cuda\"\n",
    "\n",
    "# Change your gpu device id (starts from 0 for first gpu if device is set to \"cuda\")\n",
    "device_ids = [0, 1, 2, 3]\n",
    "\n",
    "# Change your vae model save path here (ends with \".pth\")\n",
    "vae_save_path = \"./vae.pth\"\n",
    "\n",
    "# Change your dalle model save path here (ends with \".pth\")\n",
    "dalle_save_path = \"./dalle.pth\""
   ]
  },
  {
   "cell_type": "markdown",
   "metadata": {},
   "source": [
    "<font size=\"5\">Data Preprocessing</font>"
   ]
  },
  {
   "cell_type": "code",
   "execution_count": null,
   "metadata": {},
   "outputs": [],
   "source": [
    "transform = T.Compose([\n",
    "    T.Lambda(lambda img: img.convert('RGB') if img.mode != 'RGB' else img),\n",
    "    # T.Resize(input_image_size),\n",
    "    T.RandomCrop(input_image_size, pad_if_needed=True),\n",
    "    T.ToTensor()\n",
    "])\n",
    "\n",
    "tokenizer = SimpleTokenizer()\n",
    "\n",
    "class JSONDataset(CocoCaptions):\n",
    "    def __getitem__(self, index: int) -> Tuple[Any, Any]:\n",
    "        id = self.ids[index]\n",
    "        image = self._load_image(id)\n",
    "        target = self._load_target(id)[0]\n",
    "\n",
    "        if self.transforms is not None:\n",
    "            image, target = self.transforms(image, target)\n",
    "\n",
    "        target = tokenizer.tokenize(target).squeeze(0)\n",
    "\n",
    "        return image, target\n",
    "\n",
    "train_data = JSONDataset(\n",
    "    root=train_img_path,\n",
    "    annFile=train_annot_path,\n",
    "    transform=transform\n",
    ")\n",
    "\n",
    "train_loader = DataLoader(train_data, batch_size=batch_size, shuffle=True)"
   ]
  },
  {
   "cell_type": "markdown",
   "metadata": {},
   "source": [
    "<font size=\"5\">Create VAE Model</font>"
   ]
  },
  {
   "cell_type": "code",
   "execution_count": null,
   "metadata": {},
   "outputs": [],
   "source": [
    "# vae = DiscreteVAE(\n",
    "#     image_size = 256,\n",
    "#     num_layers = 3,\n",
    "#     num_tokens = 8192,\n",
    "#     codebook_dim = 1024,\n",
    "#     hidden_dim = 64,\n",
    "#     num_resnet_blocks = 1,\n",
    "#     temperature = 0.9\n",
    "# ).to(device)\n",
    "\n",
    "vae = OpenAIDiscreteVAE()\n",
    "\n",
    "# if os.path.exists(vae_save_path):\n",
    "#     vae.load_state_dict(torch.load(vae_save_path))\n",
    "\n",
    "# vae_parallel = nn.DataParallel(vae, device_ids=device_ids, output_device=[1], dim=0)"
   ]
  },
  {
   "cell_type": "markdown",
   "metadata": {},
   "source": [
    "<font size=\"5\">Train VAE Model</font>"
   ]
  },
  {
   "cell_type": "code",
   "execution_count": null,
   "metadata": {},
   "outputs": [],
   "source": [
    "def get_trainable_params(model):\n",
    "    return [params for params in model.parameters() if params.requires_grad]"
   ]
  },
  {
   "cell_type": "code",
   "execution_count": null,
   "metadata": {},
   "outputs": [],
   "source": [
    "# opt = Adam(\n",
    "#     get_trainable_params(vae_parallel),\n",
    "#     lr = 3e-4,\n",
    "#     # weight_decay=0.01,\n",
    "#     # betas = (0.9, 0.999)\n",
    "# )\n",
    "# sched = ReduceLROnPlateau(\n",
    "#     opt,\n",
    "#     mode=\"min\",\n",
    "#     factor=0.5,\n",
    "#     patience=10,\n",
    "#     cooldown=10,\n",
    "#     min_lr=1e-6,\n",
    "#     verbose=True,\n",
    "# )\n",
    "\n",
    "# for curr_epoch in range(epoch):\n",
    "#     print(\"Run training vae ...\")\n",
    "#     print(f\"Epoch {curr_epoch+1} / {epoch}\")\n",
    "\n",
    "#     batch_idx = 0\n",
    "    \n",
    "#     for train_features, _ in tqdm(iter(train_loader)):\n",
    "#         loss = vae_parallel(train_features, return_loss=True)\n",
    "\n",
    "#         opt.zero_grad()\n",
    "#         loss.mean().backward()\n",
    "#         opt.step()\n",
    "        \n",
    "#         if batch_idx % 100 == 0:\n",
    "#             torch.save(vae.state_dict(), vae_save_path)\n",
    "#             print(f\"average loss: {loss.mean().data}\")\n",
    "            \n",
    "#         batch_idx += 1\n",
    "        \n",
    "#     sched.step(loss.mean())\n",
    "\n",
    "# torch.save(vae.state_dict(), vae_save_path)"
   ]
  },
  {
   "cell_type": "markdown",
   "metadata": {},
   "source": [
    "<font size=\"5\">Create DALLE Model</font>"
   ]
  },
  {
   "cell_type": "code",
   "execution_count": null,
   "metadata": {},
   "outputs": [],
   "source": [
    "dalle = DALLE(\n",
    "    dim = 1024,\n",
    "    vae = vae,                                 # automatically infer (1) image sequence length and (2) number of image tokens\n",
    "    num_text_tokens = tokenizer.vocab_size,    # vocab size for text\n",
    "    text_seq_len = 256,                        # text sequence length\n",
    "    depth = 20,                                # should aim to be 64\n",
    "    heads = 16,                                # attention heads\n",
    "    dim_head = 64,                             # attention head dimension\n",
    "    attn_dropout = 0.1,                        # attention dropout\n",
    "    ff_dropout = 0.1,                          # feedforward dropout\n",
    "    # reversible = True,\n",
    "    stable = True,\n",
    "    optimize_for_inference = True\n",
    ").to(device)\n",
    "\n",
    "if os.path.exists(dalle_save_path):\n",
    "    dalle.load_state_dict(torch.load(dalle_save_path))\n",
    "\n",
    "dalle_parallel = nn.DataParallel(dalle, device_ids=device_ids, output_device=[1], dim=0)"
   ]
  },
  {
   "cell_type": "markdown",
   "metadata": {},
   "source": [
    "<font size=\"5\">Train DALLE Model</font>"
   ]
  },
  {
   "cell_type": "code",
   "execution_count": null,
   "metadata": {},
   "outputs": [],
   "source": [
    "opt = Adam(\n",
    "    get_trainable_params(dalle_parallel),\n",
    "    lr = 3e-4,\n",
    "    # weight_decay=0.01,\n",
    "    # betas = (0.9, 0.999)\n",
    ")\n",
    "sched = ReduceLROnPlateau(\n",
    "    opt,\n",
    "    mode=\"min\",\n",
    "    factor=0.5,\n",
    "    patience=10,\n",
    "    cooldown=10,\n",
    "    min_lr=1e-6,\n",
    "    verbose=True,\n",
    ")\n",
    "\n",
    "for curr_epoch in range(epoch):\n",
    "    print(\"Run training dalle  ...\")\n",
    "    print(f\"Epoch {curr_epoch+1} / {epoch}\")\n",
    "\n",
    "    batch_idx = 0\n",
    "    \n",
    "    for train_features, train_targets in tqdm(iter(train_loader)):\n",
    "        loss = dalle_parallel(train_targets, train_features, return_loss=True)\n",
    "\n",
    "        opt.zero_grad()\n",
    "        loss.mean().backward()\n",
    "        opt.step()\n",
    "        \n",
    "        if batch_idx % 100 == 0:\n",
    "            torch.save(dalle.state_dict(), dalle_save_path)\n",
    "            print(f\"average loss: {loss.mean().data}\")\n",
    "            \n",
    "        batch_idx += 1\n",
    "        \n",
    "    sched.step(loss.mean())\n",
    "\n",
    "torch.save(dalle.state_dict(), dalle_save_path)"
   ]
  }
 ],
 "metadata": {
  "interpreter": {
   "hash": "3196968d684371006099b3d55edeef8ed90365227a30deaef86e5d4aa8519be0"
  },
  "kernelspec": {
   "display_name": "Python 3.10.4 64-bit",
   "language": "python",
   "name": "python3"
  },
  "language_info": {
   "codemirror_mode": {
    "name": "ipython",
    "version": 3
   },
   "file_extension": ".py",
   "mimetype": "text/x-python",
   "name": "python",
   "nbconvert_exporter": "python",
   "pygments_lexer": "ipython3",
   "version": "3.10.4"
  },
  "orig_nbformat": 4
 },
 "nbformat": 4,
 "nbformat_minor": 2
}
