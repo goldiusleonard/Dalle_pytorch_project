{
 "cells": [
  {
   "cell_type": "markdown",
   "metadata": {},
   "source": [
    "<font size=\"5\">Import Libraries</font>"
   ]
  },
  {
   "cell_type": "code",
   "execution_count": null,
   "metadata": {},
   "outputs": [],
   "source": [
    "import torch\n",
    "from torchvision import transforms as T\n",
    "from pathlib import Path\n",
    "import os\n",
    "from tqdm import tqdm\n",
    "from dalle_pytorch import DiscreteVAE, DALLE\n",
    "from dalle_pytorch.tokenizer import SimpleTokenizer\n",
    "from torchvision.datasets.coco import CocoCaptions"
   ]
  },
  {
   "cell_type": "markdown",
   "metadata": {},
   "source": [
    "<font size=\"5\">Setting Dataset & Path</font>"
   ]
  },
  {
   "cell_type": "code",
   "execution_count": null,
   "metadata": {},
   "outputs": [],
   "source": [
    "# Change your input size here\n",
    "input_image_size = 256\n",
    "\n",
    "# Change your train image root path here\n",
    "test_img_path = \"./val2014/\"\n",
    "\n",
    "# Change your train annot json path here\n",
    "test_annot_path = \"./annotations/captions_val2014.json\"\n",
    "\n",
    "# Change your device (\"cpu\" or \"cuda\")\n",
    "device = \"cuda\"\n",
    "\n",
    "# Change your dalle model path here\n",
    "dalle_load_path = \"./dalle.pth\"\n",
    "\n",
    "# Change the test result image save path (should be a directory or folder)\n",
    "test_img_save_path = \"./result\"\n",
    "\n",
    "if not os.path.exists(test_img_save_path):\n",
    "    os.makedirs(test_img_save_path)"
   ]
  },
  {
   "cell_type": "markdown",
   "metadata": {},
   "source": [
    "<font size=\"5\">Data Preprocessing</font>"
   ]
  },
  {
   "cell_type": "code",
   "execution_count": null,
   "metadata": {},
   "outputs": [],
   "source": [
    "transform = T.Compose([\n",
    "    T.Lambda(lambda img: img.convert('RGB') if img.mode != 'RGB' else img),\n",
    "    T.Resize(input_image_size),\n",
    "    T.CenterCrop(input_image_size),\n",
    "    T.ToTensor()\n",
    "])\n",
    "\n",
    "test_data = CocoCaptions(\n",
    "    root=test_img_path,\n",
    "    annFile=test_annot_path,\n",
    "    transform=transform\n",
    ")"
   ]
  },
  {
   "cell_type": "markdown",
   "metadata": {},
   "source": [
    "<font size=\"5\">Create & Load Model</font>"
   ]
  },
  {
   "cell_type": "code",
   "execution_count": null,
   "metadata": {},
   "outputs": [],
   "source": [
    "tokenizer = SimpleTokenizer()\n",
    "\n",
    "vae = DiscreteVAE(\n",
    "    image_size = 256,\n",
    "    num_layers = 3,           # number of downsamples - ex. 256 / (2 ** 3) = (32 x 32 feature map)\n",
    "    num_tokens = 8192,        # number of visual tokens. in the paper, they used 8192, but could be smaller for downsized projects\n",
    "    codebook_dim = 512,       # codebook dimension\n",
    "    hidden_dim = 64,          # hidden dimension\n",
    "    num_resnet_blocks = 1,    # number of resnet blocks\n",
    "    temperature = 0.9,        # gumbel softmax temperature, the lower this is, the harder the discretization\n",
    "    straight_through = False, # straight-through for gumbel softmax. unclear if it is better one way or the other\n",
    ").to(device)\n",
    "\n",
    "dalle = DALLE(\n",
    "    dim = 1024,\n",
    "    vae = vae,                                  # automatically infer (1) image sequence length and (2) number of image tokens\n",
    "    num_text_tokens = 10000,                    # vocab size for text\n",
    "    text_seq_len = 256,                         # text sequence length\n",
    "    depth = 1,                                  # should aim to be 64\n",
    "    heads = 16,                                 # attention heads\n",
    "    dim_head = 64,                              # attention head dimension\n",
    "    attn_dropout = 0.1,                         # attention dropout\n",
    "    ff_dropout = 0.1                            # feedforward dropout\n",
    ").to(device)\n",
    "\n",
    "dalle.load_state_dict(torch.load(dalle_load_path))"
   ]
  },
  {
   "cell_type": "markdown",
   "metadata": {},
   "source": [
    "<font size=\"5\">Test Model</font>"
   ]
  },
  {
   "cell_type": "code",
   "execution_count": null,
   "metadata": {},
   "outputs": [],
   "source": [
    "for data in tqdm(test_data):\n",
    "    _, target = data\n",
    "\n",
    "    text = tokenizer.tokenize(target).to(device)\n",
    "\n",
    "    test_img_tensors = dalle.generate_images(text)\n",
    "\n",
    "    for test_idx, test_img_tensor in enumerate(test_img_tensors):\n",
    "        test_img = T.ToPILImage()(test_img_tensor)\n",
    "        test_save_path = os.path.join(test_img_save_path, f\"{target[test_idx]}.jpg\")\n",
    "        test_img.save(Path(test_save_path))"
   ]
  }
 ],
 "metadata": {
  "language_info": {
   "name": "python"
  },
  "orig_nbformat": 4
 },
 "nbformat": 4,
 "nbformat_minor": 2
}
